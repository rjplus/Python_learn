{
 "cells": [
  {
   "cell_type": "markdown",
   "id": "3b29f233",
   "metadata": {},
   "source": [
    "Here are some practice Python questions with solutions, formatted to resemble a Jupyter notebook.\n",
    "\n",
    "💻 Practice Problems"
   ]
  },
  {
   "cell_type": "markdown",
   "id": "aa9b14b1",
   "metadata": {},
   "source": [
    "Question 1\n",
    "\n",
    "    Write a Python program that takes a user's name as input and then prints a personalized greeting message.\n",
    "\n",
    "Question 2\n",
    "\n",
    "    Create a function is_even(number) that takes an integer as input and returns True if the number is even, and False otherwise.\n",
    "\n",
    "Question 3\n",
    "\n",
    "    Write a program that iterates through a list of numbers and prints only the numbers that are greater than 10.\n",
    "\n",
    "Example list: numbers = [5, 12, 8, 20, 3, 15]\n",
    "\n",
    "Question 4\n",
    "\n",
    "    Write a Python script that calculates the area of a circle. The script should ask the user to enter the radius. Use the value of π=3.14159."
   ]
  },
  {
   "cell_type": "code",
   "execution_count": null,
   "id": "b47c881f",
   "metadata": {},
   "outputs": [],
   "source": []
  },
  {
   "cell_type": "markdown",
   "id": "7e895e16",
   "metadata": {},
   "source": [
    "Question 1\n",
    "\n",
    "Write a Python program that takes a user's name as input and then prints a personalized greeting message."
   ]
  },
  {
   "cell_type": "code",
   "execution_count": null,
   "id": "c380d965",
   "metadata": {},
   "outputs": [],
   "source": [
    "name = input(\"Please enter your name: \")\n",
    "print(f\"Hello, {name}! Welcome to Python.\")"
   ]
  },
  {
   "cell_type": "markdown",
   "id": "0fed7d79",
   "metadata": {},
   "source": [
    "Question 2\n",
    "\n",
    "Create a function is_even(number) that takes an integer as input and returns True if the number is even, and False otherwise."
   ]
  },
  {
   "cell_type": "code",
   "execution_count": null,
   "id": "194d9c58",
   "metadata": {},
   "outputs": [],
   "source": [
    "def is_even(number):\n",
    "    if number % 2 == 0:\n",
    "        return True\n",
    "    else:\n",
    "        return False\n",
    "\n",
    "# Example usage:\n",
    "print(is_even(4))\n",
    "print(is_even(7))"
   ]
  },
  {
   "cell_type": "markdown",
   "id": "d9ed9459",
   "metadata": {},
   "source": [
    "Question 3\n",
    "\n",
    "Write a program that iterates through a list of numbers and prints only the numbers that are greater than 10.\n",
    "Example list: numbers = [5, 12, 8, 20, 3, 15]"
   ]
  },
  {
   "cell_type": "code",
   "execution_count": null,
   "id": "2150ae3c",
   "metadata": {},
   "outputs": [],
   "source": [
    "numbers = [5, 12, 8, 20, 3, 15]\n",
    "\n",
    "for number in numbers:\n",
    "    if number > 10:\n",
    "        print(number)"
   ]
  },
  {
   "cell_type": "markdown",
   "id": "0e104ccc",
   "metadata": {},
   "source": [
    "Question 4\n",
    "\n",
    "Write a Python script that calculates the area of a circle. The script should ask the user to enter the radius. Use the value of π=3.14159."
   ]
  },
  {
   "cell_type": "code",
   "execution_count": null,
   "id": "09ff2ce6",
   "metadata": {},
   "outputs": [],
   "source": [
    "import math\n",
    "\n",
    "radius = float(input(\"Enter the radius of the circle: \"))\n",
    "area = math.pi * radius**2\n",
    "print(f\"The area of the circle is: {area:.2f}\")\n",
    "\n",
    "# Or without the math module:\n",
    "# pi = 3.14159\n",
    "# area = pi * radius**2\n",
    "# print(f\"The area of the circle is: {area:.2f}\")"
   ]
  },
  {
   "cell_type": "markdown",
   "id": "b8181bb7",
   "metadata": {},
   "source": [
    "A break statement is used to exit a loop entirely. The moment the program encounters break, the loop is terminated, and the program's execution continues with the first statement after the loop.\n",
    "\n",
    "A classic example is searching for a specific item in a list. Once you find it, there's no reason to continue searching the rest of the list. Using break saves time and processing.\n",
    "\n",
    "Here is a Python program that demonstrates this by searching for the number 50 in a list."
   ]
  },
  {
   "cell_type": "code",
   "execution_count": null,
   "id": "3f319664",
   "metadata": {},
   "outputs": [],
   "source": [
    "# This program demonstrates the use of a 'break' statement within a for loop.\n",
    "# We will search for a specific number in a list.\n",
    "\n",
    "# A list of numbers to search through.\n",
    "numbers_list = [10, 25, 30, 50, 65, 80, 95]\n",
    "\n",
    "# The target number we are looking for.\n",
    "target = 50\n",
    "\n",
    "print(f\"Searching for the number {target}...\")\n",
    "\n",
    "# Iterate through each number in the list.\n",
    "for number in numbers_list:\n",
    "    # Print the number being checked to show the loop's progress.\n",
    "    print(f\"Checking {number}...\")\n",
    "\n",
    "    # Check if the current number is the one we are looking for.\n",
    "    if number == target:\n",
    "        # If the number matches, we found it!\n",
    "        print(f\"Found it! The number {target} is in the list.\")\n",
    "        # Now, we use 'break' to immediately exit the loop.\n",
    "        break\n",
    "\n",
    "# This line is outside the loop and will run after the loop has been\n",
    "# terminated by the 'break' statement or after all numbers have been checked.\n",
    "print(\"Search complete.\")\n"
   ]
  },
  {
   "cell_type": "markdown",
   "id": "4a6d3c58",
   "metadata": {},
   "source": []
  }
 ],
 "metadata": {
  "kernelspec": {
   "display_name": "Python 3.13",
   "language": "python",
   "name": "python3.13"
  },
  "language_info": {
   "codemirror_mode": {
    "name": "ipython",
    "version": 3
   },
   "file_extension": ".py",
   "mimetype": "text/x-python",
   "name": "python",
   "nbconvert_exporter": "python",
   "pygments_lexer": "ipython3",
   "version": "3.13.5"
  }
 },
 "nbformat": 4,
 "nbformat_minor": 5
}
