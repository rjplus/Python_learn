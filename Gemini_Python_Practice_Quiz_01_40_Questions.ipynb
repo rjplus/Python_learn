{
 "cells": [
  {
   "cell_type": "code",
   "execution_count": 3,
   "id": "00148f9e",
   "metadata": {},
   "outputs": [
    {
     "data": {
      "text/html": [
       "\n",
       "    <style>\n",
       "        .container { width: 100% !important; }\n",
       "    </style>\n"
      ],
      "text/plain": [
       "<IPython.core.display.HTML object>"
      ]
     },
     "metadata": {},
     "output_type": "display_data"
    }
   ],
   "source": [
    "# attempt 2 - expands cell width on page\n",
    "\n",
    "from IPython.display import display, HTML\n",
    "\n",
    "# Apply CSS to expand the cell width\n",
    "display(HTML('''\n",
    "    <style>\n",
    "        .container { width: 100% !important; }\n",
    "    </style>\n",
    "'''))"
   ]
  },
  {
   "cell_type": "markdown",
   "id": "5b357b8e",
   "metadata": {},
   "source": [
    "<div style=\"float: left;\">\n",
    "    <img src=\"./Gemini_Python_Practice_Quiz/Q01.jpg\" />\n",
    "    <p></p>\n",
    "    <p></p>\n",
    "    <br/>\n",
    "    <br/>\n",
    "</div>"
   ]
  },
  {
   "cell_type": "markdown",
   "id": "8255a911",
   "metadata": {},
   "source": [
    "<div style=\"float: left;\">\n",
    "    <img src=\"./Gemini_Python_Practice_Quiz/Q02.jpg\" />\n",
    "    <p></p>\n",
    "    <p></p>\n",
    "    <br/>\n",
    "    <br/>\n",
    "</div>"
   ]
  },
  {
   "cell_type": "markdown",
   "id": "10ca2555",
   "metadata": {},
   "source": [
    "<div style=\"float: left;\">\n",
    "    <img src=\"./Gemini_Python_Practice_Quiz/Q03.jpg\" />\n",
    "    <p></p>\n",
    "    <p></p>\n",
    "    <br/>\n",
    "    <br/>\n",
    "</div>"
   ]
  },
  {
   "cell_type": "markdown",
   "id": "adc4592c",
   "metadata": {},
   "source": [
    "<div style=\"float: left;\">\n",
    "    <img src=\"./Gemini_Python_Practice_Quiz/Q04.jpg\" />\n",
    "    <p></p>\n",
    "    <p></p>\n",
    "    <br/>\n",
    "    <br/>\n",
    "</div>"
   ]
  },
  {
   "cell_type": "markdown",
   "id": "a75b62d4",
   "metadata": {},
   "source": [
    "<div style=\"float: left;\">\n",
    "    <img src=\"./Gemini_Python_Practice_Quiz/Q05.jpg\" />\n",
    "    <p></p>\n",
    "    <p></p>\n",
    "    <br/>\n",
    "    <br/>\n",
    "</div>"
   ]
  },
  {
   "cell_type": "markdown",
   "id": "a0a1eb40",
   "metadata": {},
   "source": [
    "<div style=\"float: left;\">\n",
    "    <img src=\"./Gemini_Python_Practice_Quiz/Q06.jpg\" />\n",
    "    <p></p>\n",
    "    <p></p>\n",
    "    <br/>\n",
    "    <br/>\n",
    "</div>"
   ]
  },
  {
   "cell_type": "markdown",
   "id": "208e7a75",
   "metadata": {},
   "source": [
    "<div style=\"float: left;\">\n",
    "    <img src=\"./Gemini_Python_Practice_Quiz/Q07.jpg\" />\n",
    "    <p></p>\n",
    "    <p></p>\n",
    "    <br/>\n",
    "    <br/>\n",
    "</div>"
   ]
  },
  {
   "cell_type": "markdown",
   "id": "4e9b3291",
   "metadata": {},
   "source": [
    "<div style=\"float: left;\">\n",
    "    <img src=\"./Gemini_Python_Practice_Quiz/Q08.jpg\" />\n",
    "    <p></p>\n",
    "    <p></p>\n",
    "    <br/>\n",
    "    <br/>\n",
    "</div>"
   ]
  },
  {
   "cell_type": "markdown",
   "id": "b20fa20b",
   "metadata": {},
   "source": [
    "<div style=\"float: left;\">\n",
    "    <img src=\"./Gemini_Python_Practice_Quiz/Q09.jpg\" />\n",
    "    <p></p>\n",
    "    <p></p>\n",
    "    <br/>\n",
    "    <br/>\n",
    "</div>"
   ]
  },
  {
   "cell_type": "markdown",
   "id": "ee851ae5",
   "metadata": {},
   "source": [
    "<div style=\"float: left;\">\n",
    "    <img src=\"./Gemini_Python_Practice_Quiz/Q10.jpg\" />\n",
    "    <p></p>\n",
    "    <p></p>\n",
    "    <br/>\n",
    "    <br/>\n",
    "</div>"
   ]
  },
  {
   "cell_type": "markdown",
   "id": "d010d122",
   "metadata": {},
   "source": [
    "<div style=\"float: left;\">\n",
    "    <img src=\"./Gemini_Python_Practice_Quiz/Q11.jpg\" />\n",
    "    <p></p>\n",
    "    <p></p>\n",
    "    <br/>\n",
    "    <br/>\n",
    "</div>"
   ]
  },
  {
   "cell_type": "markdown",
   "id": "fc8c294d",
   "metadata": {},
   "source": [
    "<div style=\"float: left;\">\n",
    "    <img src=\"./Gemini_Python_Practice_Quiz/Q12.jpg\" />\n",
    "    <p></p>\n",
    "    <p></p>\n",
    "    <br/>\n",
    "    <br/>\n",
    "</div>"
   ]
  },
  {
   "cell_type": "markdown",
   "id": "546b60fc",
   "metadata": {},
   "source": [
    "<div style=\"float: left;\">\n",
    "    <img src=\"./Gemini_Python_Practice_Quiz/Q13.jpg\" />\n",
    "    <p></p>\n",
    "    <p></p>\n",
    "    <br/>\n",
    "    <br/>\n",
    "</div>"
   ]
  },
  {
   "cell_type": "markdown",
   "id": "d9cff93e",
   "metadata": {},
   "source": [
    "<div style=\"float: left;\">\n",
    "    <img src=\"./Gemini_Python_Practice_Quiz/Q14.jpg\" />\n",
    "    <p></p>\n",
    "    <p></p>\n",
    "    <br/>\n",
    "    <br/>\n",
    "</div>"
   ]
  },
  {
   "cell_type": "markdown",
   "id": "d74451df",
   "metadata": {},
   "source": [
    "<div style=\"float: left;\">\n",
    "    <img src=\"./Gemini_Python_Practice_Quiz/Q15.jpg\" />\n",
    "    <p></p>\n",
    "    <p></p>\n",
    "    <br/>\n",
    "    <br/>\n",
    "</div>"
   ]
  },
  {
   "cell_type": "markdown",
   "id": "38181081",
   "metadata": {},
   "source": [
    "<div style=\"float: left;\">\n",
    "    <img src=\"./Gemini_Python_Practice_Quiz/Q16.jpg\" />\n",
    "    <p></p>\n",
    "    <p></p>\n",
    "    <br/>\n",
    "    <br/>\n",
    "</div>"
   ]
  },
  {
   "cell_type": "markdown",
   "id": "92d3c14e",
   "metadata": {},
   "source": [
    "<div style=\"float: left;\">\n",
    "    <img src=\"./Gemini_Python_Practice_Quiz/Q17.jpg\" />\n",
    "    <p></p>\n",
    "    <p></p>\n",
    "    <br/>\n",
    "    <br/>\n",
    "</div>"
   ]
  },
  {
   "cell_type": "markdown",
   "id": "26374c6b",
   "metadata": {},
   "source": [
    "<div style=\"float: left;\">\n",
    "    <img src=\"./Gemini_Python_Practice_Quiz/Q18.jpg\" />\n",
    "    <p></p>\n",
    "    <p></p>\n",
    "    <br/>\n",
    "    <br/>\n",
    "</div>"
   ]
  },
  {
   "cell_type": "markdown",
   "id": "41f05bf4",
   "metadata": {},
   "source": [
    "<div style=\"float: left;\">\n",
    "    <img src=\"./Gemini_Python_Practice_Quiz/Q19.jpg\" />\n",
    "    <p></p>\n",
    "    <p></p>\n",
    "    <br/>\n",
    "    <br/>\n",
    "</div>"
   ]
  },
  {
   "cell_type": "markdown",
   "id": "cb861aed",
   "metadata": {},
   "source": [
    "<div style=\"float: left;\">\n",
    "    <img src=\"./Gemini_Python_Practice_Quiz/Q20.jpg\" />\n",
    "    <p></p>\n",
    "    <p></p>\n",
    "    <br/>\n",
    "    <br/>\n",
    "</div>"
   ]
  },
  {
   "cell_type": "markdown",
   "id": "331f2dae",
   "metadata": {},
   "source": [
    "<div style=\"float: left;\">\n",
    "    <img src=\"./Gemini_Python_Practice_Quiz/Q21.jpg\" />\n",
    "    <p></p>\n",
    "    <p></p>\n",
    "    <br/>\n",
    "    <br/>\n",
    "</div>"
   ]
  },
  {
   "cell_type": "markdown",
   "id": "af4cdffc",
   "metadata": {},
   "source": [
    "<div style=\"float: left;\">\n",
    "    <img src=\"./Gemini_Python_Practice_Quiz/Q22.jpg\" />\n",
    "    <p></p>\n",
    "    <p></p>\n",
    "    <br/>\n",
    "    <br/>\n",
    "</div>"
   ]
  },
  {
   "cell_type": "markdown",
   "id": "7d8e5a25",
   "metadata": {},
   "source": [
    "<div style=\"float: left;\">\n",
    "    <img src=\"./Gemini_Python_Practice_Quiz/Q23.jpg\" />\n",
    "    <p></p>\n",
    "    <p></p>\n",
    "    <br/>\n",
    "    <br/>\n",
    "</div>"
   ]
  },
  {
   "cell_type": "markdown",
   "id": "05cac5a1",
   "metadata": {},
   "source": [
    "<div style=\"float: left;\">\n",
    "    <img src=\"./Gemini_Python_Practice_Quiz/Q24.jpg\" />\n",
    "    <p></p>\n",
    "    <p></p>\n",
    "    <br/>\n",
    "    <br/>\n",
    "</div>"
   ]
  },
  {
   "cell_type": "markdown",
   "id": "b9427960",
   "metadata": {},
   "source": [
    "<div style=\"float: left;\">\n",
    "    <img src=\"./Gemini_Python_Practice_Quiz/Q25.jpg\" />\n",
    "    <p></p>\n",
    "    <p></p>\n",
    "    <br/>\n",
    "    <br/>\n",
    "</div>"
   ]
  },
  {
   "cell_type": "markdown",
   "id": "64427079",
   "metadata": {},
   "source": [
    "<div style=\"float: left;\">\n",
    "    <img src=\"./Gemini_Python_Practice_Quiz/Q26.jpg\" />\n",
    "    <p></p>\n",
    "    <p></p>\n",
    "    <br/>\n",
    "    <br/>\n",
    "</div>"
   ]
  },
  {
   "cell_type": "markdown",
   "id": "114087db",
   "metadata": {},
   "source": [
    "<div style=\"float: left;\">\n",
    "    <img src=\"./Gemini_Python_Practice_Quiz/Q27.jpg\" />\n",
    "    <p></p>\n",
    "    <p></p>\n",
    "    <br/>\n",
    "    <br/>\n",
    "</div>"
   ]
  },
  {
   "cell_type": "markdown",
   "id": "1aeb3a0f",
   "metadata": {},
   "source": [
    "<div style=\"float: left;\">\n",
    "    <img src=\"./Gemini_Python_Practice_Quiz/Q28.jpg\" />\n",
    "    <p></p>\n",
    "    <p></p>\n",
    "    <br/>\n",
    "    <br/>\n",
    "</div>"
   ]
  },
  {
   "cell_type": "markdown",
   "id": "6563e87d",
   "metadata": {},
   "source": [
    "<div style=\"float: left;\">\n",
    "    <img src=\"./Gemini_Python_Practice_Quiz/Q29.jpg\" />\n",
    "    <p></p>\n",
    "    <p></p>\n",
    "    <br/>\n",
    "    <br/>\n",
    "</div>"
   ]
  },
  {
   "cell_type": "markdown",
   "id": "8f784551",
   "metadata": {},
   "source": [
    "<div style=\"float: left;\">\n",
    "    <img src=\"./Gemini_Python_Practice_Quiz/Q30.jpg\" />\n",
    "    <p></p>\n",
    "    <p></p>\n",
    "    <br/>\n",
    "    <br/>\n",
    "</div>"
   ]
  },
  {
   "cell_type": "markdown",
   "id": "51a511e0",
   "metadata": {},
   "source": [
    "<div style=\"float: left;\">\n",
    "    <img src=\"./Gemini_Python_Practice_Quiz/Q31.jpg\" />\n",
    "    <p></p>\n",
    "    <p></p>\n",
    "    <br/>\n",
    "    <br/>\n",
    "</div>"
   ]
  },
  {
   "cell_type": "markdown",
   "id": "9715acd6",
   "metadata": {},
   "source": [
    "<div style=\"float: left;\">\n",
    "    <img src=\"./Gemini_Python_Practice_Quiz/Q32.jpg\" />\n",
    "    <p></p>\n",
    "    <p></p>\n",
    "    <br/>\n",
    "    <br/>\n",
    "</div>"
   ]
  },
  {
   "cell_type": "markdown",
   "id": "bfdf12bc",
   "metadata": {},
   "source": [
    "<div style=\"float: left;\">\n",
    "    <img src=\"./Gemini_Python_Practice_Quiz/Q33.jpg\" />\n",
    "    <p></p>\n",
    "    <p></p>\n",
    "    <br/>\n",
    "    <br/>\n",
    "</div>"
   ]
  },
  {
   "cell_type": "markdown",
   "id": "9f3f3776",
   "metadata": {},
   "source": [
    "<div style=\"float: left;\">\n",
    "    <img src=\"./Gemini_Python_Practice_Quiz/Q34.jpg\" />\n",
    "    <p></p>\n",
    "    <p></p>\n",
    "    <br/>\n",
    "    <br/>\n",
    "</div>"
   ]
  },
  {
   "cell_type": "markdown",
   "id": "5e7f2087",
   "metadata": {},
   "source": [
    "<div style=\"float: left;\">\n",
    "    <img src=\"./Gemini_Python_Practice_Quiz/Q35.jpg\" />\n",
    "    <p></p>\n",
    "    <p></p>\n",
    "    <br/>\n",
    "    <br/>\n",
    "</div>"
   ]
  },
  {
   "cell_type": "markdown",
   "id": "b84216ed",
   "metadata": {},
   "source": [
    "<div style=\"float: left;\">\n",
    "    <img src=\"./Gemini_Python_Practice_Quiz/Q36.jpg\" />\n",
    "    <p></p>\n",
    "    <p></p>\n",
    "    <br/>\n",
    "    <br/>\n",
    "</div>"
   ]
  },
  {
   "cell_type": "markdown",
   "id": "db7d4fee",
   "metadata": {},
   "source": [
    "<div style=\"float: left;\">\n",
    "    <img src=\"./Gemini_Python_Practice_Quiz/Q37.jpg\" />\n",
    "    <p></p>\n",
    "    <p></p>\n",
    "    <br/>\n",
    "    <br/>\n",
    "</div>"
   ]
  },
  {
   "cell_type": "markdown",
   "id": "2536ff9b",
   "metadata": {},
   "source": [
    "<div style=\"float: left;\">\n",
    "    <img src=\"./Gemini_Python_Practice_Quiz/Q38.jpg\" />\n",
    "    <p></p>\n",
    "    <p></p>\n",
    "    <br/>\n",
    "    <br/>\n",
    "</div>"
   ]
  },
  {
   "cell_type": "markdown",
   "id": "f3aa122f",
   "metadata": {},
   "source": [
    "<div style=\"float: left;\">\n",
    "    <img src=\"./Gemini_Python_Practice_Quiz/Q39.jpg\" />\n",
    "    <p></p>\n",
    "    <p></p>\n",
    "    <br/>\n",
    "    <br/>\n",
    "</div>"
   ]
  },
  {
   "cell_type": "markdown",
   "id": "f023a91b",
   "metadata": {},
   "source": [
    "<div style=\"float: left;\">\n",
    "    <img src=\"./Gemini_Python_Practice_Quiz/Q40.jpg\" />\n",
    "    <p></p>\n",
    "    <p></p>\n",
    "    <br/>\n",
    "    <br/>\n",
    "</div>"
   ]
  },
  {
   "cell_type": "markdown",
   "id": "09607106",
   "metadata": {},
   "source": [
    "<div style=\"float: left;\">\n",
    "    <img src=\"./Gemini_Python_Practice_Quiz/Q41.jpg\" />\n",
    "    <p></p>\n",
    "    <p></p>\n",
    "    <br/>\n",
    "    <br/>\n",
    "</div>"
   ]
  },
  {
   "cell_type": "markdown",
   "id": "082e47f2",
   "metadata": {},
   "source": [
    "<div style=\"float: left;\">\n",
    "    <img src=\"./Gemini_Python_Practice_Quiz/Q42.jpg\" />\n",
    "    <p></p>\n",
    "    <p></p>\n",
    "    <br/>\n",
    "    <br/>\n",
    "</div>"
   ]
  },
  {
   "cell_type": "code",
   "execution_count": null,
   "id": "04ae3be1",
   "metadata": {},
   "outputs": [],
   "source": []
  },
  {
   "cell_type": "code",
   "execution_count": null,
   "id": "22735818",
   "metadata": {},
   "outputs": [],
   "source": []
  },
  {
   "cell_type": "code",
   "execution_count": null,
   "id": "a8208b57",
   "metadata": {},
   "outputs": [],
   "source": []
  },
  {
   "cell_type": "code",
   "execution_count": null,
   "id": "36c5ad55",
   "metadata": {},
   "outputs": [],
   "source": []
  },
  {
   "cell_type": "code",
   "execution_count": null,
   "id": "f81df080",
   "metadata": {},
   "outputs": [],
   "source": []
  },
  {
   "cell_type": "code",
   "execution_count": null,
   "id": "105f4bb2",
   "metadata": {},
   "outputs": [],
   "source": []
  },
  {
   "cell_type": "code",
   "execution_count": null,
   "id": "74602bf8",
   "metadata": {},
   "outputs": [],
   "source": []
  },
  {
   "cell_type": "code",
   "execution_count": null,
   "id": "6f571b82",
   "metadata": {},
   "outputs": [],
   "source": []
  },
  {
   "cell_type": "code",
   "execution_count": null,
   "id": "f2121bdf",
   "metadata": {},
   "outputs": [],
   "source": []
  },
  {
   "cell_type": "code",
   "execution_count": null,
   "id": "7e828add",
   "metadata": {},
   "outputs": [],
   "source": []
  },
  {
   "cell_type": "code",
   "execution_count": null,
   "id": "1a8d77c5",
   "metadata": {},
   "outputs": [],
   "source": []
  },
  {
   "cell_type": "code",
   "execution_count": null,
   "id": "80fc82da",
   "metadata": {},
   "outputs": [],
   "source": []
  },
  {
   "cell_type": "code",
   "execution_count": null,
   "id": "8fb01c75",
   "metadata": {},
   "outputs": [],
   "source": []
  },
  {
   "cell_type": "code",
   "execution_count": null,
   "id": "afb32fe5",
   "metadata": {},
   "outputs": [],
   "source": []
  },
  {
   "cell_type": "code",
   "execution_count": null,
   "id": "aeb82f7e",
   "metadata": {},
   "outputs": [],
   "source": []
  },
  {
   "cell_type": "code",
   "execution_count": null,
   "id": "0521b165",
   "metadata": {},
   "outputs": [],
   "source": []
  },
  {
   "cell_type": "code",
   "execution_count": null,
   "id": "2fb26957",
   "metadata": {},
   "outputs": [],
   "source": []
  },
  {
   "cell_type": "code",
   "execution_count": null,
   "id": "435ed16b",
   "metadata": {},
   "outputs": [],
   "source": []
  },
  {
   "cell_type": "code",
   "execution_count": null,
   "id": "d30d91cc",
   "metadata": {},
   "outputs": [],
   "source": []
  },
  {
   "cell_type": "code",
   "execution_count": null,
   "id": "4e2642ce",
   "metadata": {},
   "outputs": [],
   "source": []
  },
  {
   "cell_type": "code",
   "execution_count": null,
   "id": "21cee99e",
   "metadata": {},
   "outputs": [],
   "source": []
  },
  {
   "cell_type": "code",
   "execution_count": null,
   "id": "2e082c54",
   "metadata": {},
   "outputs": [],
   "source": []
  },
  {
   "cell_type": "code",
   "execution_count": null,
   "id": "0a09234b",
   "metadata": {},
   "outputs": [],
   "source": []
  }
 ],
 "metadata": {
  "kernelspec": {
   "display_name": "Python 3.13",
   "language": "python",
   "name": "python3.13"
  },
  "language_info": {
   "codemirror_mode": {
    "name": "ipython",
    "version": 3
   },
   "file_extension": ".py",
   "mimetype": "text/x-python",
   "name": "python",
   "nbconvert_exporter": "python",
   "pygments_lexer": "ipython3",
   "version": "3.13.5"
  }
 },
 "nbformat": 4,
 "nbformat_minor": 5
}
